{
 "cells": [
  {
   "cell_type": "code",
   "execution_count": 59,
   "id": "326c0639",
   "metadata": {},
   "outputs": [],
   "source": [
    "import json\n",
    "with open('/workspace/samm/data/jsons_final_update/TotalSegmentatorV2_5_folds.json') as f:\n",
    "    dtrain = json.load(f)\n",
    "with open('/workspace/samm/TotalSegmentatorV2_5_folds.json') as f:\n",
    "    dtest = json.load(f)"
   ]
  },
  {
   "cell_type": "code",
   "execution_count": 60,
   "id": "76124d24",
   "metadata": {},
   "outputs": [],
   "source": [
    "dtrain_key = [_['image'].split('/')[0] for _ in dtrain['training']]"
   ]
  },
  {
   "cell_type": "code",
   "execution_count": 61,
   "id": "e2ecd1e6",
   "metadata": {},
   "outputs": [],
   "source": [
    "dtest_key = [_['image'].split('/')[0] for _ in dtest['training']] + [_['image'].split('/')[0] for _ in dtest['testing']]\n",
    "dtest_testonly = [_['image'].split('/')[0] for _ in dtest['testing']]"
   ]
  },
  {
   "cell_type": "code",
   "execution_count": 69,
   "id": "c893331c",
   "metadata": {},
   "outputs": [],
   "source": [
    "diff = list(set(dtest_key) - set(dtrain_key))\n",
    "testing = []\n",
    "for i in diff:\n",
    "    image = '/data/TotalSegmentatorV2/' + i + '/ct.nii.gz'\n",
    "    label = '/data/TotalSegmentatorV2/' + i + '/seg.nii.gz'\n",
    "    assert os.path.exists(image) and os.path.exists(label)\n",
    "    testing.append({'image': i + '/ct.nii.gz', 'label': i + '/seg.nii.gz'})"
   ]
  },
  {
   "cell_type": "code",
   "execution_count": 74,
   "id": "72358947",
   "metadata": {},
   "outputs": [],
   "source": [
    "dtrain['testing'] = testing\n",
    "with open('/workspace/samm/data/jsons_gitlab/TotalSegmentatorV2_5_folds.json', 'w') as f:\n",
    "    json.dump(dtrain,f, indent=4)"
   ]
  },
  {
   "cell_type": "code",
   "execution_count": 50,
   "id": "6e41a780",
   "metadata": {},
   "outputs": [],
   "source": [
    "import glob\n",
    "files = glob.glob('/workspace/samm/data/jsons_gitlab/*folds.json')"
   ]
  },
  {
   "cell_type": "code",
   "execution_count": 54,
   "id": "56472816",
   "metadata": {},
   "outputs": [
    {
     "name": "stdout",
     "output_type": "stream",
     "text": [
      "/workspace/samm/data/jsons_gitlab/AMOS22_5_folds.json same\n",
      "/workspace/samm/data/jsons_gitlab/AbdomenCT-1K_5_folds.json same\n",
      "/workspace/samm/data/jsons_gitlab/BTCV-Abdomen_5_folds.json same\n",
      "/workspace/samm/data/jsons_gitlab/Task10_5_folds.json same\n",
      "/workspace/samm/data/jsons_gitlab/AeroPath_5_folds.json same\n",
      "/workspace/samm/data/jsons_gitlab/Task09_5_folds.json same\n",
      "/workspace/samm/data/jsons_gitlab/FLARE22_5_folds.json same\n",
      "/workspace/samm/data/jsons_gitlab/Bone-NIH_5_folds.json same\n",
      "/workspace/samm/data/jsons_gitlab/VerSe_5_folds.json same\n",
      "/workspace/samm/data/jsons_gitlab/Task08_5_folds.json same\n",
      "/workspace/samm/data/jsons_gitlab/CRLM-CT_5_folds.json same\n",
      "/workspace/samm/data/jsons_gitlab/Task03_5_folds.json same\n",
      "/workspace/samm/data/jsons_gitlab/CT-ORG_5_folds.json same\n",
      "['s0459', 's1196', 's0249', 's0784', 's1210', 's1382', 's0535', 's1097', 's0675', 's0838', 's0968', 's0326', 's0982', 's0414', 's0798', 's1016', 's0334', 's0473', 's1307', 's0571', 's0468', 's0282', 's0339', 's0377', 's0619', 's0556', 's0760', 's0789', 's0513', 's0857', 's0651', 's0423', 's0621', 's0606', 's1247', 's0366', 's0919', 's0435', 's0593', 's0768', 's0641', 's0724', 's1033', 's1272', 's0818', 's0644', 's0999', 's0884', 's1072', 's0700', 's0552', 's0582', 's0922', 's0441', 's0522', 's0412', 's0908', 's1069', 's0495', 's1113', 's0453', 's0680', 's0933', 's0802', 's1330', 's1056', 's0577', 's1195', 's1042', 's1248', 's0663', 's0867', 's0379', 's0257', 's0492', 's1311', 's1120', 's0850', 's0916', 's1354', 's1163', 's0705', 's0563', 's0503', 's0810', 's0738', 's1011', 's1104', 's1171', 's0527', 's0952', 's0971', 's1231', 's1012', 's0756', 's1100', 's0353', 's1124', 's0382', 's0836', 's0845', 's1259', 's0687', 's0357', 's0683', 's1411', 's0265', 's0255', 's1154', 's0598', 's1061', 's0537', 's1039', 's0825', 's0861', 's0444', 's0611', 's1036', 's0624', 's0541', 's1293', 's0388', 's0773', 's0589', 's0696', 's0979', 's1368', 's0369', 's0792', 's1132', 's0402', 's1345', 's0694', 's1090', 's1150', 's0881', 's0259', 's0974', 's0263', 's1093', 's0639', 's0629', 's1144', 's1165', 's0507', 's0717', 's0277', 's1237'] /workspace/samm/data/jsons_gitlab/TotalSegmentatorV2_5_folds.json different\n",
      "/workspace/samm/data/jsons_gitlab/Pancreas-CT_5_folds.json same\n",
      "/workspace/samm/data/jsons_gitlab/Task06_5_folds.json same\n",
      "/workspace/samm/data/jsons_gitlab/Multi-organ-Abdominal-CT-tcia_5_folds.json same\n",
      "/workspace/samm/data/jsons_gitlab/BTCV-Cervix_5_folds.json same\n",
      "/workspace/samm/data/jsons_gitlab/CTPelvic1K-CLINIC_5_folds.json same\n",
      "/workspace/samm/data/jsons_gitlab/Multi-organ-Abdominal-CT-btcv_5_folds.json same\n",
      "/workspace/samm/data/jsons_gitlab/Task07_5_folds.json same\n"
     ]
    }
   ],
   "source": [
    "import os\n",
    "for file in files:\n",
    "    train = file.replace('jsons_gitlab','jsons_final_update')\n",
    "    if os.path.exists(train):\n",
    "        with open(train) as f:\n",
    "            dtrain = json.load(f)\n",
    "        dtrain_key = [_['image'].split('/')[0] for _ in dtrain['training']]\n",
    "        with open(file) as f:\n",
    "            dtest = json.load(f)       \n",
    "        dtest_key = [_['image'].split('/')[0] for _ in dtest['training']]\n",
    "        diff = list(set(dtest_key) - set(dtrain_key))\n",
    "        if len(diff) > 0:\n",
    "            print(diff,file, 'different')\n",
    "        else:\n",
    "            print(file, 'same')"
   ]
  },
  {
   "cell_type": "code",
   "execution_count": 66,
   "id": "1ee6fe01",
   "metadata": {},
   "outputs": [
    {
     "data": {
      "text/plain": [
       "'s0754'"
      ]
     },
     "execution_count": 66,
     "metadata": {},
     "output_type": "execute_result"
    }
   ],
   "source": [
    "diff[0]"
   ]
  },
  {
   "cell_type": "code",
   "execution_count": 55,
   "id": "b06757c7",
   "metadata": {},
   "outputs": [
    {
     "data": {
      "text/plain": [
       "0"
      ]
     },
     "execution_count": 55,
     "metadata": {},
     "output_type": "execute_result"
    }
   ],
   "source": [
    "len(diff)"
   ]
  },
  {
   "cell_type": "code",
   "execution_count": null,
   "id": "0ba8ba42",
   "metadata": {},
   "outputs": [],
   "source": []
  }
 ],
 "metadata": {
  "kernelspec": {
   "display_name": "Python 3 (ipykernel)",
   "language": "python",
   "name": "python3"
  },
  "language_info": {
   "codemirror_mode": {
    "name": "ipython",
    "version": 3
   },
   "file_extension": ".py",
   "mimetype": "text/x-python",
   "name": "python",
   "nbconvert_exporter": "python",
   "pygments_lexer": "ipython3",
   "version": "3.10.12"
  }
 },
 "nbformat": 4,
 "nbformat_minor": 5
}
